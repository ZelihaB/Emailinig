{
 "cells": [
  {
   "cell_type": "code",
   "execution_count": 7,
   "id": "b45b4c9e",
   "metadata": {},
   "outputs": [],
   "source": [
    "import smtplib\n",
    "import ssl \n",
    "from email.mime.text import MIMEText \n",
    "from email. mime.multipart import MIMEMultipart"
   ]
  },
  {
   "cell_type": "code",
   "execution_count": 8,
   "id": "d07fe92e",
   "metadata": {},
   "outputs": [
    {
     "ename": "SyntaxError",
     "evalue": "unterminated string literal (detected at line 34) (2512474611.py, line 34)",
     "output_type": "error",
     "traceback": [
      "\u001b[0;36m  Cell \u001b[0;32mIn[8], line 34\u001b[0;36m\u001b[0m\n\u001b[0;31m    if self.password != ': server. login(self.sender_email, self.password)\u001b[0m\n\u001b[0m                        ^\u001b[0m\n\u001b[0;31mSyntaxError\u001b[0m\u001b[0;31m:\u001b[0m unterminated string literal (detected at line 34)\n"
     ]
    }
   ],
   "source": [
    "class SendMail:\n",
    "    def _init__ (self):\n",
    "        self. sender_email = \"my@gmail.com\"   # your email\n",
    "        self.password = \"mypassword\"          # your password\n",
    "        self.mail_server = \"smtp-mail.outlook.com\"  # smtp server\n",
    "        self.port = 587                             # smtp server port\n",
    "        \n",
    "    def send (self): # Create a multipart message and set headers\n",
    "        message = MIMEMultipart (\"alternative\")\n",
    "        subject = input (\"Please type your subject: \")\n",
    "        message [\"Subject\"] = subject\n",
    "        message [\"From\"] = self. sender_email\n",
    "        receiver_email = input (\"Please type the receiver email: \")\n",
    "        message [\"To\"] = receiver_email\n",
    "        \n",
    "        # Create HTML version of your message\n",
    "        html = \"\"\"\\\n",
    "            <html>\n",
    "                <body>\n",
    "                <p>Hi, <br>  \n",
    "                How are you?<br>\n",
    "                <a href=\"http://www.realpython.com\">Real Python‹/a>\n",
    "                has many great tutorials.\n",
    "                </p> \n",
    "                </body>\n",
    "            </html>\n",
    "    \"\"\"\n",
    "    message.attach (MIMEText (html, \"html\")) # Add attachment to message\n",
    "    context = ssl. create_default_context() # Create a secure SSL context\n",
    "        \n",
    "    try:\n",
    "        with smtplib.SMTP (self.mail_server, self.port) as server:\n",
    "            server.starttls (context=context)\n",
    "            if self.password != ': server. login(self.sender_email, self.password)\n",
    "            server. sendmail (self. sender_email, receiver_email,message.as_string())\n",
    "        return True\n",
    "    except BaseException as ex:\n",
    "        print (ex)\n",
    "        return False\n",
    "sendmail = SendMail ()\n",
    "sendmail. send(O)"
   ]
  },
  {
   "cell_type": "code",
   "execution_count": null,
   "id": "5b8db526",
   "metadata": {},
   "outputs": [],
   "source": []
  }
 ],
 "metadata": {
  "kernelspec": {
   "display_name": "Python 3 (ipykernel)",
   "language": "python",
   "name": "python3"
  },
  "language_info": {
   "codemirror_mode": {
    "name": "ipython",
    "version": 3
   },
   "file_extension": ".py",
   "mimetype": "text/x-python",
   "name": "python",
   "nbconvert_exporter": "python",
   "pygments_lexer": "ipython3",
   "version": "3.11.4"
  }
 },
 "nbformat": 4,
 "nbformat_minor": 5
}
